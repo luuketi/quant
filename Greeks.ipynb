{
 "cells": [
  {
   "cell_type": "code",
   "execution_count": 8,
   "metadata": {},
   "outputs": [
    {
     "data": {
      "application/vnd.jupyter.widget-view+json": {
       "model_id": "8e38aac2d3b34c35ac70dbeeacee5dc4",
       "version_major": 2,
       "version_minor": 0
      },
      "text/plain": [
       "FigureCanvasNbAgg()"
      ]
     },
     "metadata": {},
     "output_type": "display_data"
    }
   ],
   "source": [
    "%matplotlib ipympl\n",
    "from BlackScholes import BlackScholes\n",
    "from functools import partial\n",
    "from mpl_toolkits.mplot3d import Axes3D\n",
    "import matplotlib.pyplot as plt\n",
    "from matplotlib import cm\n",
    "from matplotlib.ticker import LinearLocator, FormatStrFormatter\n",
    "import numpy as np\n",
    "import pandas as pd\n",
    "\n",
    "callParams = { 'K': 62, 'r': 0.06, 'volatility': 0.13 }\n",
    "blackScholes = partial( BlackScholes, **callParams )\n",
    "\n",
    "S_0_range = np.arange( 1, 100, 1 )\n",
    "T_range   = np.arange( 0.1, 3, 0.1 )\n",
    "\n",
    "X, Y = np.meshgrid( S_0_range,  T_range )\n",
    "Z = np.array([ [ blackScholes( S_0 = x, T = y ).delta() for x in S_0_range ] for y in T_range ])\n",
    "\n",
    "\n",
    "fig = plt.figure( figsize=(8,6), facecolor='w', edgecolor='k')\n",
    "ax = fig.gca(projection='3d')\n",
    "\n",
    "surf = ax.plot_surface( X, Y, Z, rstride=1, cstride=1, cmap=cm.coolwarm, linewidth=1, antialiased=True)\n",
    "\n",
    "ax.zaxis.set_major_locator(LinearLocator(5))\n",
    "ax.zaxis.set_major_formatter(FormatStrFormatter('%.02f'))\n",
    "ax.set_title('Δ')\n",
    "ax.set_xlabel('Underlying price')\n",
    "ax.set_ylabel('Time to expiration')\n",
    "ax.set_zlabel('Delta')\n",
    "\n",
    "fig.colorbar(surf, shrink=0.5, aspect=5)\n",
    "\n",
    "plt.show()\n"
   ]
  },
  {
   "cell_type": "code",
   "execution_count": null,
   "metadata": {},
   "outputs": [],
   "source": []
  }
 ],
 "metadata": {
  "kernelspec": {
   "display_name": "Python 3",
   "language": "python",
   "name": "python3"
  },
  "language_info": {
   "codemirror_mode": {
    "name": "ipython",
    "version": 3
   },
   "file_extension": ".py",
   "mimetype": "text/x-python",
   "name": "python",
   "nbconvert_exporter": "python",
   "pygments_lexer": "ipython3",
   "version": "3.6.7"
  }
 },
 "nbformat": 4,
 "nbformat_minor": 2
}

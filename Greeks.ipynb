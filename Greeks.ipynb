{
 "cells": [
  {
   "cell_type": "code",
   "execution_count": 19,
   "metadata": {},
   "outputs": [
    {
     "data": {
      "text/html": [
       "<iframe id=\"igraph\" scrolling=\"no\" style=\"border:none;\" seamless=\"seamless\" src=\"https://plot.ly/~paradisi.lucasa84c/6.embed\" height=\"600px\" width=\"800px\"></iframe>"
      ],
      "text/plain": [
       "<chart_studio.tools.PlotlyDisplay object>"
      ]
     },
     "execution_count": 19,
     "metadata": {},
     "output_type": "execute_result"
    }
   ],
   "source": [
    "%matplotlib notebook\n",
    "from BlackScholes import BlackScholes\n",
    "from functools import partial\n",
    "import numpy as np\n",
    "import plotly.plotly as py\n",
    "import plotly.graph_objs as go\n",
    "\n",
    "py.sign_in('paradisi.lucasa84c', 'uY7kZk1Lh0QuHN5h0IqH')\n",
    "\n",
    "callParams = { 'K': 62, 'r': 0.06, 'volatility': 0.13 }\n",
    "blackScholes = partial( BlackScholes, **callParams )\n",
    "\n",
    "S_0_range = np.arange( 1, 100, 1 )\n",
    "T_range   = np.arange( 0.1, 3, 0.1 )\n",
    "\n",
    "data = [\n",
    "    go.Surface(\n",
    "        x = S_0_range,\n",
    "        y = T_range,\n",
    "        z = np.array([ [ blackScholes( S_0 = x, T = y ).delta() for x in S_0_range ] for y in T_range ])\n",
    "    )\n",
    "]\n",
    "\n",
    "layout = go.Layout(\n",
    "    title='Delta',\n",
    "    autosize=True,\n",
    "    width=800,\n",
    "    height=600,\n",
    "    scene={'xaxis': {'title': 'Underlying price', 'tickfont': {'size': 10}, 'type': 'linear'},\n",
    "           'yaxis': {'title': 'Time to expiration', 'tickfont': {'size': 10}, 'tickangle': 1},\n",
    "           'zaxis': {'title': 'Delta', 'tickfont': {'size': 10}},\n",
    "             'camera': {'eye': {'x': 1, 'y': 2, 'z': 1.25}}, 'aspectmode': 'cube', }\n",
    "    \n",
    ")\n",
    "fig = go.Figure(data=data, layout=layout)\n",
    "py.iplot(fig, filename='delta')\n"
   ]
  },
  {
   "cell_type": "code",
   "execution_count": null,
   "metadata": {},
   "outputs": [],
   "source": []
  }
 ],
 "metadata": {
  "kernelspec": {
   "display_name": "Python 3",
   "language": "python",
   "name": "python3"
  },
  "language_info": {
   "codemirror_mode": {
    "name": "ipython",
    "version": 3
   },
   "file_extension": ".py",
   "mimetype": "text/x-python",
   "name": "python",
   "nbconvert_exporter": "python",
   "pygments_lexer": "ipython3",
   "version": "3.6.7"
  }
 },
 "nbformat": 4,
 "nbformat_minor": 2
}
